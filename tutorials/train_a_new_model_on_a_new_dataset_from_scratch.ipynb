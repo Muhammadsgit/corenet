version https://git-lfs.github.com/spec/v1
oid sha256:92cfa84e4104f387e551db1b5f1eeb5af2530c2a4971e50c63695ffb395fcc97
size 31220
